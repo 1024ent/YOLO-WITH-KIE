{
 "cells": [
  {
   "cell_type": "code",
   "execution_count": null,
   "metadata": {},
   "outputs": [],
   "source": [
    "# Disable warnings in the notebook to maintain clean output cells\n",
    "import warnings\n",
    "warnings.filterwarnings('ignore')\n",
    "\n",
    "# Import necessary libraries\n",
    "import os\n",
    "import shutil\n",
    "import numpy as np\n",
    "import pandas as np\n",
    "import matplotlib as plt\n",
    "import seaborn as sns\n",
    "import random\n",
    "import cv2\n",
    "import yaml\n",
    "from PIL import Image\n",
    "from collections import deque\n",
    "from ultralytics import YOLO\n",
    "from IPython.display import Video"
   ]
  }
 ],
 "metadata": {
  "language_info": {
   "name": "python"
  }
 },
 "nbformat": 4,
 "nbformat_minor": 2
}
